{
 "cells": [
  {
   "cell_type": "code",
   "execution_count": 1,
   "metadata": {},
   "outputs": [],
   "source": [
    "import csv"
   ]
  },
  {
   "cell_type": "code",
   "execution_count": 2,
   "metadata": {},
   "outputs": [],
   "source": [
    "pybankpath=\"Desktop/UCDSAC201902DATA4/03-Python/Homework/Instruction/PyBank/Resources/budget_data.csv\""
   ]
  },
  {
   "cell_type": "code",
   "execution_count": 4,
   "metadata": {},
   "outputs": [],
   "source": [
    "with open(pybankpath, newline=\"\") as pybankfile:\n",
    "    pybankreader =csv.reader(pybankfile, delimiter=\",\")\n",
    "    header=next(pybankreader,None)\n",
    "    total_months=0\n",
    "    total=0\n",
    "    profit_loss=[]\n",
    "    difference=0\n",
    "    profit_change=[]\n",
    "    original=[]\n",
    "    \n",
    "    for row in pybankreader:\n",
    "        total_months+=1\n",
    "        total+=(int(row[1]))\n",
    "        profit_loss.append(int(row[1]))\n",
    "        original.append(row)\n",
    "        \n",
    "    for i in range (1,total_months):\n",
    "        difference+=profit_loss[i]-profit_loss[i-1]\n",
    "        profit_change.append(profit_loss[i]-profit_loss[i-1])\n",
    "        \n",
    "    maximum=profit_change[0]\n",
    "    minimum=profit_change[0] \n",
    "    max_index=0\n",
    "    min_index=0\n",
    "    \n",
    "    for i in range (len(profit_change)):\n",
    "        if minimum>profit_change[i]:\n",
    "            minimum=profit_change[i]\n",
    "            min_index=i\n",
    "        if maximum<profit_change[i]:\n",
    "            maximum=profit_change[i]\n",
    "            max_index=i\n",
    "    averagechange=difference/(total_months-1)\n",
    "       "
   ]
  },
  {
   "cell_type": "code",
   "execution_count": 5,
   "metadata": {},
   "outputs": [
    {
     "name": "stdout",
     "output_type": "stream",
     "text": [
      "-2315.12\n"
     ]
    }
   ],
   "source": [
    "print (round (averagechange,2))"
   ]
  },
  {
   "cell_type": "code",
   "execution_count": 7,
   "metadata": {},
   "outputs": [
    {
     "name": "stdout",
     "output_type": "stream",
     "text": [
      "1926159\n"
     ]
    }
   ],
   "source": [
    "print(profit_change[max_index])"
   ]
  },
  {
   "cell_type": "code",
   "execution_count": 8,
   "metadata": {},
   "outputs": [
    {
     "name": "stdout",
     "output_type": "stream",
     "text": [
      "-2196167\n"
     ]
    }
   ],
   "source": [
    "print(profit_change[min_index])"
   ]
  },
  {
   "cell_type": "code",
   "execution_count": 9,
   "metadata": {},
   "outputs": [
    {
     "name": "stdout",
     "output_type": "stream",
     "text": [
      "Feb-2012\n"
     ]
    }
   ],
   "source": [
    "print(original[max_index+1][0])"
   ]
  },
  {
   "cell_type": "code",
   "execution_count": 10,
   "metadata": {},
   "outputs": [
    {
     "name": "stdout",
     "output_type": "stream",
     "text": [
      "Sep-2013\n"
     ]
    }
   ],
   "source": [
    "print(original[min_index+1][0])"
   ]
  },
  {
   "cell_type": "code",
   "execution_count": 13,
   "metadata": {},
   "outputs": [
    {
     "name": "stdout",
     "output_type": "stream",
     "text": [
      "Greatest Increase in Profits: Feb-2012 ($1926159)\n"
     ]
    }
   ],
   "source": [
    "print('Greatest Increase in Profits: {date} (${value})'.format(date=original[max_index+1][0],\n",
    "                                                               value=profit_change[max_index]))"
   ]
  },
  {
   "cell_type": "code",
   "execution_count": 12,
   "metadata": {},
   "outputs": [
    {
     "name": "stdout",
     "output_type": "stream",
     "text": [
      "Greatest Decrease in Profits: Sep-2013 ($-2196167)\n"
     ]
    }
   ],
   "source": [
    "print('Greatest Decrease in Profits: {date} (${value})'.format(date=original[min_index+1][0],\n",
    "                                                               value=profit_change[min_index]))"
   ]
  },
  {
   "cell_type": "code",
   "execution_count": null,
   "metadata": {},
   "outputs": [],
   "source": []
  }
 ],
 "metadata": {
  "kernelspec": {
   "display_name": "Python 3",
   "language": "python",
   "name": "python3"
  },
  "language_info": {
   "codemirror_mode": {
    "name": "ipython",
    "version": 3
   },
   "file_extension": ".py",
   "mimetype": "text/x-python",
   "name": "python",
   "nbconvert_exporter": "python",
   "pygments_lexer": "ipython3",
   "version": "3.7.1"
  }
 },
 "nbformat": 4,
 "nbformat_minor": 2
}
