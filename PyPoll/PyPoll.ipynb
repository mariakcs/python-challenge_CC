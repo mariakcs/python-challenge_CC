{
 "cells": [
  {
   "cell_type": "code",
   "execution_count": 1,
   "metadata": {},
   "outputs": [],
   "source": [
    "import csv"
   ]
  },
  {
   "cell_type": "code",
   "execution_count": 2,
   "metadata": {},
   "outputs": [],
   "source": [
    "pypollpath=\"../PyPoll/election_data.csv\""
   ]
  },
  {
   "cell_type": "code",
   "execution_count": 3,
   "metadata": {
    "scrolled": false
   },
   "outputs": [],
   "source": [
    "with open(pypollpath, newline=\"\") as pypollfile:\n",
    "    pypollreader =csv.reader(pypollfile, delimiter=\",\")\n",
    "    header=next(pypollreader,None)\n",
    "    total_votes=0\n",
    "    #total=0\n",
    "  \n",
    "    #difference=0\n",
    "    #profit_change=[]\n",
    "    #original=[]\n",
    "    candidates = {}\n",
    "    for row in pypollreader:\n",
    "        total_votes+=1\n",
    "        if row[2] in candidates:\n",
    "            candidates[row[2]] += 1\n",
    "        else:\n",
    "            candidates[row[2]] = 1"
   ]
  },
  {
   "cell_type": "code",
   "execution_count": 4,
   "metadata": {},
   "outputs": [
    {
     "name": "stdout",
     "output_type": "stream",
     "text": [
      "Election Results\n",
      "-------------------------\n",
      "Total Votes: 3521001\n",
      "-------------------------\n",
      "Khan: 63.00% (2218231)\n",
      "Correy: 20.00% (704200)\n",
      "Li: 14.00% (492940)\n",
      "O'Tooley: 3.00% (105630)\n",
      "-------------------------\n",
      "Winner: Khan\n",
      "-------------------------\n"
     ]
    }
   ],
   "source": [
    "print('Election Results')\n",
    "print('-------------------------')\n",
    "print('Total Votes: {a}'.format(a=total_votes))\n",
    "print('-------------------------')\n",
    "for candid in candidates.keys():\n",
    "    print('{candidate}: {percentage:4.2f}% ({vote})'.format(candidate = candid, \n",
    "                                                       percentage = (candidates[candid] / total_votes) * 100, \n",
    "                                                       vote = candidates[candid]))\n",
    "print('-------------------------')\n",
    "v = 0\n",
    "winner = ''\n",
    "for candid in candidates.keys():\n",
    "    if (candidates[candid] > v):\n",
    "        v = candidates[candid]\n",
    "        winner = candid\n",
    "print('Winner: {w}'.format(w=winner))\n",
    "print('-------------------------')"
   ]
  },
  {
   "cell_type": "code",
   "execution_count": null,
   "metadata": {},
   "outputs": [],
   "source": []
  }
 ],
 "metadata": {
  "kernelspec": {
   "display_name": "Python 3",
   "language": "python",
   "name": "python3"
  },
  "language_info": {
   "codemirror_mode": {
    "name": "ipython",
    "version": 3
   },
   "file_extension": ".py",
   "mimetype": "text/x-python",
   "name": "python",
   "nbconvert_exporter": "python",
   "pygments_lexer": "ipython3",
   "version": "3.7.1"
  }
 },
 "nbformat": 4,
 "nbformat_minor": 2
}
